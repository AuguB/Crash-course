{
 "cells": [
  {
   "cell_type": "code",
   "execution_count": 1,
   "metadata": {},
   "outputs": [
    {
     "name": "stdout",
     "output_type": "stream",
     "text": [
      "Collecting https://github.com/amarquand/PCNtoolkit/archive/refs/tags/v1.alpha.zip\n",
      "  Using cached https://github.com/amarquand/PCNtoolkit/archive/refs/tags/v1.alpha.zip\n",
      "  Installing build dependencies ... \u001b[?25ldone\n",
      "\u001b[?25h  Getting requirements to build wheel ... \u001b[?25ldone\n",
      "\u001b[?25h  Preparing metadata (pyproject.toml) ... \u001b[?25ldone\n",
      "\u001b[?25hRequirement already satisfied: bspline<0.2.0,>=0.1.1 in /opt/anaconda3/envs/pcn_crash_course/lib/python3.12/site-packages (from pcntoolkit==1.0.0a0) (0.1.1)\n",
      "Requirement already satisfied: dill<0.4.0,>=0.3.9 in /opt/anaconda3/envs/pcn_crash_course/lib/python3.12/site-packages (from pcntoolkit==1.0.0a0) (0.3.9)\n",
      "Requirement already satisfied: joblib<2.0.0,>=1.4.2 in /opt/anaconda3/envs/pcn_crash_course/lib/python3.12/site-packages (from pcntoolkit==1.0.0a0) (1.4.2)\n",
      "Requirement already satisfied: matplotlib<4.0.0,>=3.9.2 in /opt/anaconda3/envs/pcn_crash_course/lib/python3.12/site-packages (from pcntoolkit==1.0.0a0) (3.10.0)\n",
      "Requirement already satisfied: nibabel<6.0.0,>=5.3.1 in /opt/anaconda3/envs/pcn_crash_course/lib/python3.12/site-packages (from pcntoolkit==1.0.0a0) (5.3.2)\n",
      "Requirement already satisfied: numba<0.61.0,>=0.60.0 in /opt/anaconda3/envs/pcn_crash_course/lib/python3.12/site-packages (from pcntoolkit==1.0.0a0) (0.60.0)\n",
      "Requirement already satisfied: nutpie<0.14.0,>=0.13.2 in /opt/anaconda3/envs/pcn_crash_course/lib/python3.12/site-packages (from pcntoolkit==1.0.0a0) (0.13.2)\n",
      "Requirement already satisfied: pymc<6.0.0,>=5.19.1 in /opt/anaconda3/envs/pcn_crash_course/lib/python3.12/site-packages (from pcntoolkit==1.0.0a0) (5.20.0)\n",
      "Requirement already satisfied: scikit-learn<2.0.0,>=1.5.2 in /opt/anaconda3/envs/pcn_crash_course/lib/python3.12/site-packages (from pcntoolkit==1.0.0a0) (1.6.1)\n",
      "Requirement already satisfied: scipy<2.0,>=1.12 in /opt/anaconda3/envs/pcn_crash_course/lib/python3.12/site-packages (from pcntoolkit==1.0.0a0) (1.15.1)\n",
      "Requirement already satisfied: seaborn<0.14.0,>=0.13.2 in /opt/anaconda3/envs/pcn_crash_course/lib/python3.12/site-packages (from pcntoolkit==1.0.0a0) (0.13.2)\n",
      "Requirement already satisfied: six<2.0.0,>=1.16.0 in /opt/anaconda3/envs/pcn_crash_course/lib/python3.12/site-packages (from pcntoolkit==1.0.0a0) (1.17.0)\n",
      "Requirement already satisfied: torch>=2.1.1 in /opt/anaconda3/envs/pcn_crash_course/lib/python3.12/site-packages (from pcntoolkit==1.0.0a0) (2.6.0)\n",
      "Requirement already satisfied: numpy in /opt/anaconda3/envs/pcn_crash_course/lib/python3.12/site-packages (from bspline<0.2.0,>=0.1.1->pcntoolkit==1.0.0a0) (1.26.4)\n",
      "Requirement already satisfied: contourpy>=1.0.1 in /opt/anaconda3/envs/pcn_crash_course/lib/python3.12/site-packages (from matplotlib<4.0.0,>=3.9.2->pcntoolkit==1.0.0a0) (1.3.1)\n",
      "Requirement already satisfied: cycler>=0.10 in /opt/anaconda3/envs/pcn_crash_course/lib/python3.12/site-packages (from matplotlib<4.0.0,>=3.9.2->pcntoolkit==1.0.0a0) (0.12.1)\n",
      "Requirement already satisfied: fonttools>=4.22.0 in /opt/anaconda3/envs/pcn_crash_course/lib/python3.12/site-packages (from matplotlib<4.0.0,>=3.9.2->pcntoolkit==1.0.0a0) (4.55.8)\n",
      "Requirement already satisfied: kiwisolver>=1.3.1 in /opt/anaconda3/envs/pcn_crash_course/lib/python3.12/site-packages (from matplotlib<4.0.0,>=3.9.2->pcntoolkit==1.0.0a0) (1.4.8)\n",
      "Requirement already satisfied: packaging>=20.0 in /opt/anaconda3/envs/pcn_crash_course/lib/python3.12/site-packages (from matplotlib<4.0.0,>=3.9.2->pcntoolkit==1.0.0a0) (24.2)\n",
      "Requirement already satisfied: pillow>=8 in /opt/anaconda3/envs/pcn_crash_course/lib/python3.12/site-packages (from matplotlib<4.0.0,>=3.9.2->pcntoolkit==1.0.0a0) (11.1.0)\n",
      "Requirement already satisfied: pyparsing>=2.3.1 in /opt/anaconda3/envs/pcn_crash_course/lib/python3.12/site-packages (from matplotlib<4.0.0,>=3.9.2->pcntoolkit==1.0.0a0) (3.2.1)\n",
      "Requirement already satisfied: python-dateutil>=2.7 in /opt/anaconda3/envs/pcn_crash_course/lib/python3.12/site-packages (from matplotlib<4.0.0,>=3.9.2->pcntoolkit==1.0.0a0) (2.9.0.post0)\n",
      "Requirement already satisfied: typing-extensions>=4.6 in /opt/anaconda3/envs/pcn_crash_course/lib/python3.12/site-packages (from nibabel<6.0.0,>=5.3.1->pcntoolkit==1.0.0a0) (4.12.2)\n",
      "Requirement already satisfied: llvmlite<0.44,>=0.43.0dev0 in /opt/anaconda3/envs/pcn_crash_course/lib/python3.12/site-packages (from numba<0.61.0,>=0.60.0->pcntoolkit==1.0.0a0) (0.43.0)\n",
      "Requirement already satisfied: pyarrow>=12.0.0 in /opt/anaconda3/envs/pcn_crash_course/lib/python3.12/site-packages (from nutpie<0.14.0,>=0.13.2->pcntoolkit==1.0.0a0) (19.0.0)\n",
      "Requirement already satisfied: pandas>=2.0 in /opt/anaconda3/envs/pcn_crash_course/lib/python3.12/site-packages (from nutpie<0.14.0,>=0.13.2->pcntoolkit==1.0.0a0) (2.2.3)\n",
      "Requirement already satisfied: xarray>=2023.6.0 in /opt/anaconda3/envs/pcn_crash_course/lib/python3.12/site-packages (from nutpie<0.14.0,>=0.13.2->pcntoolkit==1.0.0a0) (2025.1.2)\n",
      "Requirement already satisfied: arviz>=0.15.0 in /opt/anaconda3/envs/pcn_crash_course/lib/python3.12/site-packages (from nutpie<0.14.0,>=0.13.2->pcntoolkit==1.0.0a0) (0.20.0)\n",
      "Requirement already satisfied: cachetools>=4.2.1 in /opt/anaconda3/envs/pcn_crash_course/lib/python3.12/site-packages (from pymc<6.0.0,>=5.19.1->pcntoolkit==1.0.0a0) (5.5.1)\n",
      "Requirement already satisfied: cloudpickle in /opt/anaconda3/envs/pcn_crash_course/lib/python3.12/site-packages (from pymc<6.0.0,>=5.19.1->pcntoolkit==1.0.0a0) (3.1.1)\n",
      "Requirement already satisfied: pytensor<2.27,>=2.26.1 in /opt/anaconda3/envs/pcn_crash_course/lib/python3.12/site-packages (from pymc<6.0.0,>=5.19.1->pcntoolkit==1.0.0a0) (2.26.4)\n",
      "Requirement already satisfied: rich>=13.7.1 in /opt/anaconda3/envs/pcn_crash_course/lib/python3.12/site-packages (from pymc<6.0.0,>=5.19.1->pcntoolkit==1.0.0a0) (13.9.4)\n",
      "Requirement already satisfied: threadpoolctl<4.0.0,>=3.1.0 in /opt/anaconda3/envs/pcn_crash_course/lib/python3.12/site-packages (from pymc<6.0.0,>=5.19.1->pcntoolkit==1.0.0a0) (3.5.0)\n",
      "Requirement already satisfied: filelock in /opt/anaconda3/envs/pcn_crash_course/lib/python3.12/site-packages (from torch>=2.1.1->pcntoolkit==1.0.0a0) (3.17.0)\n",
      "Requirement already satisfied: networkx in /opt/anaconda3/envs/pcn_crash_course/lib/python3.12/site-packages (from torch>=2.1.1->pcntoolkit==1.0.0a0) (3.4.2)\n",
      "Requirement already satisfied: jinja2 in /opt/anaconda3/envs/pcn_crash_course/lib/python3.12/site-packages (from torch>=2.1.1->pcntoolkit==1.0.0a0) (3.1.5)\n",
      "Requirement already satisfied: fsspec in /opt/anaconda3/envs/pcn_crash_course/lib/python3.12/site-packages (from torch>=2.1.1->pcntoolkit==1.0.0a0) (2024.12.0)\n",
      "Requirement already satisfied: setuptools in /opt/anaconda3/envs/pcn_crash_course/lib/python3.12/site-packages (from torch>=2.1.1->pcntoolkit==1.0.0a0) (75.8.0)\n",
      "Requirement already satisfied: sympy==1.13.1 in /opt/anaconda3/envs/pcn_crash_course/lib/python3.12/site-packages (from torch>=2.1.1->pcntoolkit==1.0.0a0) (1.13.1)\n",
      "Requirement already satisfied: mpmath<1.4,>=1.1.0 in /opt/anaconda3/envs/pcn_crash_course/lib/python3.12/site-packages (from sympy==1.13.1->torch>=2.1.1->pcntoolkit==1.0.0a0) (1.3.0)\n",
      "Requirement already satisfied: h5netcdf>=1.0.2 in /opt/anaconda3/envs/pcn_crash_course/lib/python3.12/site-packages (from arviz>=0.15.0->nutpie<0.14.0,>=0.13.2->pcntoolkit==1.0.0a0) (1.5.0)\n",
      "Requirement already satisfied: xarray-einstats>=0.3 in /opt/anaconda3/envs/pcn_crash_course/lib/python3.12/site-packages (from arviz>=0.15.0->nutpie<0.14.0,>=0.13.2->pcntoolkit==1.0.0a0) (0.8.0)\n",
      "Requirement already satisfied: pytz>=2020.1 in /opt/anaconda3/envs/pcn_crash_course/lib/python3.12/site-packages (from pandas>=2.0->nutpie<0.14.0,>=0.13.2->pcntoolkit==1.0.0a0) (2025.1)\n",
      "Requirement already satisfied: tzdata>=2022.7 in /opt/anaconda3/envs/pcn_crash_course/lib/python3.12/site-packages (from pandas>=2.0->nutpie<0.14.0,>=0.13.2->pcntoolkit==1.0.0a0) (2025.1)\n",
      "Requirement already satisfied: etuples in /opt/anaconda3/envs/pcn_crash_course/lib/python3.12/site-packages (from pytensor<2.27,>=2.26.1->pymc<6.0.0,>=5.19.1->pcntoolkit==1.0.0a0) (0.3.9)\n",
      "Requirement already satisfied: logical-unification in /opt/anaconda3/envs/pcn_crash_course/lib/python3.12/site-packages (from pytensor<2.27,>=2.26.1->pymc<6.0.0,>=5.19.1->pcntoolkit==1.0.0a0) (0.4.6)\n",
      "Requirement already satisfied: miniKanren in /opt/anaconda3/envs/pcn_crash_course/lib/python3.12/site-packages (from pytensor<2.27,>=2.26.1->pymc<6.0.0,>=5.19.1->pcntoolkit==1.0.0a0) (1.0.3)\n",
      "Requirement already satisfied: cons in /opt/anaconda3/envs/pcn_crash_course/lib/python3.12/site-packages (from pytensor<2.27,>=2.26.1->pymc<6.0.0,>=5.19.1->pcntoolkit==1.0.0a0) (0.4.6)\n",
      "Requirement already satisfied: markdown-it-py>=2.2.0 in /opt/anaconda3/envs/pcn_crash_course/lib/python3.12/site-packages (from rich>=13.7.1->pymc<6.0.0,>=5.19.1->pcntoolkit==1.0.0a0) (3.0.0)\n",
      "Requirement already satisfied: pygments<3.0.0,>=2.13.0 in /opt/anaconda3/envs/pcn_crash_course/lib/python3.12/site-packages (from rich>=13.7.1->pymc<6.0.0,>=5.19.1->pcntoolkit==1.0.0a0) (2.19.1)\n",
      "Requirement already satisfied: MarkupSafe>=2.0 in /opt/anaconda3/envs/pcn_crash_course/lib/python3.12/site-packages (from jinja2->torch>=2.1.1->pcntoolkit==1.0.0a0) (3.0.2)\n",
      "Requirement already satisfied: h5py in /opt/anaconda3/envs/pcn_crash_course/lib/python3.12/site-packages (from h5netcdf>=1.0.2->arviz>=0.15.0->nutpie<0.14.0,>=0.13.2->pcntoolkit==1.0.0a0) (3.12.1)\n",
      "Requirement already satisfied: mdurl~=0.1 in /opt/anaconda3/envs/pcn_crash_course/lib/python3.12/site-packages (from markdown-it-py>=2.2.0->rich>=13.7.1->pymc<6.0.0,>=5.19.1->pcntoolkit==1.0.0a0) (0.1.2)\n",
      "Requirement already satisfied: toolz in /opt/anaconda3/envs/pcn_crash_course/lib/python3.12/site-packages (from logical-unification->pytensor<2.27,>=2.26.1->pymc<6.0.0,>=5.19.1->pcntoolkit==1.0.0a0) (1.0.0)\n",
      "Requirement already satisfied: multipledispatch in /opt/anaconda3/envs/pcn_crash_course/lib/python3.12/site-packages (from logical-unification->pytensor<2.27,>=2.26.1->pymc<6.0.0,>=5.19.1->pcntoolkit==1.0.0a0) (1.0.0)\n",
      "Note: you may need to restart the kernel to use updated packages.\n",
      "Requirement already satisfied: graphviz in /opt/anaconda3/envs/pcn_crash_course/lib/python3.12/site-packages (0.20.3)\n",
      "Note: you may need to restart the kernel to use updated packages.\n",
      "Channels:\n",
      " - pytorch\n",
      " - conda-forge\n",
      " - defaults\n",
      "Platform: osx-arm64\n",
      "Collecting package metadata (repodata.json): done\n",
      "Solving environment: done\n",
      "\n",
      "# All requested packages already installed.\n",
      "\n",
      "\n",
      "Note: you may need to restart the kernel to use updated packages.\n"
     ]
    }
   ],
   "source": [
    "%pip install https://github.com/amarquand/PCNtoolkit/archive/refs/tags/v1.alpha.zip\n",
    "%pip install graphviz\n",
    "%conda install drawdata"
   ]
  },
  {
   "cell_type": "code",
   "execution_count": 2,
   "metadata": {},
   "outputs": [],
   "source": [
    "# make scatterplot using plotly\n",
    "import os\n",
    "\n",
    "import pandas as pd\n",
    "from pcntoolkit.dataio.norm_data import NormData\n",
    "from pcntoolkit.normative_model.norm_conf import NormConf\n",
    "from pcntoolkit.normative_model.norm_hbr import NormHBR\n",
    "from pcntoolkit.regression_model.hbr.hbr_conf import HBRConf\n",
    "from pcntoolkit.regression_model.hbr.likelihood import NormalLikelihood\n",
    "from pcntoolkit.regression_model.hbr.prior import make_prior\n",
    "from pcntoolkit.util.runner import Runner\n",
    "\n",
    "resources_dir = \"resources\"\n",
    "abs_path = os.path.abspath(resources_dir)\n",
    "data_dir = os.path.join(abs_path, \"data\")\n",
    "os.makedirs(data_dir, exist_ok=True)"
   ]
  },
  {
   "cell_type": "code",
   "execution_count": 3,
   "metadata": {},
   "outputs": [],
   "source": [
    "# If you are running this notebook for the first time, you need to download the dataset from github.\n",
    "# If you have already downloaded the dataset, you can comment out the following line\n",
    "\n",
    "pd.read_csv(\n",
    "    \"https://raw.githubusercontent.com/predictive-clinical-neuroscience/PCNtoolkit-demo/refs/heads/main/data/fcon1000.csv\"\n",
    ").to_csv(os.path.join(data_dir, \"fcon1000.csv\"), index=False)\n",
    "data = pd.read_csv(os.path.join(data_dir, \"fcon1000.csv\"))\n",
    "covariates = [\"age\"]\n",
    "batch_effects = [\"sex\", \"site\"]\n",
    "response_vars = [\"rh_MeanThickness_thickness\", \"WM-hypointensities\"]\n",
    "norm_data = NormData.from_dataframe(\n",
    "    name=\"full\",\n",
    "    dataframe=data,\n",
    "    covariates=[\"age\"],\n",
    "    batch_effects=[\"sex\", \"site\"],\n",
    "    response_vars=[\"rh_MeanThickness_thickness\", \"WM-hypointensities\"],\n",
    ")\n",
    "\n",
    "# Leave two sites out for doing transfer and extend later\n",
    "transfer_sites = [\"Milwaukee_b\", \"Oulu\"]\n",
    "transfer_data, fit_data = norm_data.split_batch_effects(\n",
    "    {\"site\": transfer_sites}, names=(\"transfer\", \"fit\")\n",
    ")\n",
    "\n",
    "# Split into train and test sets\n",
    "train, test = fit_data.train_test_split()\n",
    "transfer_train, transfer_test = transfer_data.train_test_split()\n"
   ]
  },
  {
   "cell_type": "code",
   "execution_count": 4,
   "metadata": {},
   "outputs": [
    {
     "name": "stdout",
     "output_type": "stream",
     "text": [
      "Process: 46638 - Configuration of normative model is valid.\n"
     ]
    }
   ],
   "source": [
    "# Create a NormConf object\n",
    "save_dir = os.path.join(abs_path, \"save_dir\")\n",
    "norm_conf = NormConf(\n",
    "    savemodel=True,\n",
    "    saveresults=True,\n",
    "    save_dir=save_dir,\n",
    "    inscaler=\"standardize\",\n",
    "    outscaler=\"standardize\",\n",
    "    basis_function=\"bspline\",\n",
    "    basis_function_kwargs={\"order\": 3, \"nknots\": 5},\n",
    ")"
   ]
  },
  {
   "cell_type": "code",
   "execution_count": 5,
   "metadata": {},
   "outputs": [
    {
     "name": "stdout",
     "output_type": "stream",
     "text": [
      "Process: 46638 - No python path specified. Using interpreter path of current process: /opt/anaconda3/envs/pcn_crash_course/bin/python\n",
      "Process: 46638 - Saving runner state to /Users/stijndeboer/Projects/PCN/Crash course/resources/hbr_runner_sandbox/temp_dir/runner_state.json\n"
     ]
    }
   ],
   "source": [
    "mu = make_prior(\n",
    "    linear=True,\n",
    "    slope=make_prior(dist_params=(0.0, 10.0)),\n",
    "    intercept=make_prior(\n",
    "        random=True,\n",
    "        sigma=make_prior(dist_name=\"HalfCauchy\", dist_params=(0.5,)),\n",
    "        mu=make_prior(dist_name=\"Normal\", dist_params=(0.0, 1.0)),\n",
    "    ),\n",
    ")\n",
    "\n",
    "sigma = make_prior(\n",
    "    linear=True,\n",
    "    slope=make_prior(dist_params=(0.0, 10.0)),\n",
    "    intercept=make_prior(\n",
    "        random=True,\n",
    "        sigma=make_prior(dist_name=\"HalfCauchy\", dist_params=(0.5,)),\n",
    "        mu=make_prior(dist_name=\"Normal\", dist_params=(1.0, 1.0)),\n",
    "    ),\n",
    "    mapping=\"softplus\",\n",
    "    mapping_params=(0.0, 3.0),\n",
    ")\n",
    "\n",
    "\n",
    "# Configure the HBRConf object\n",
    "hbr_conf = HBRConf(\n",
    "    draws=10,\n",
    "    tune=5,\n",
    "    chains=4,\n",
    "    pymc_cores=16,\n",
    "    likelihood=NormalLikelihood(mu, sigma),\n",
    "    nuts_sampler=\"nutpie\",\n",
    ")\n",
    "\n",
    "new_hbr_model = NormHBR(norm_conf=norm_conf, reg_conf=hbr_conf)\n",
    "\n",
    "sandbox_dir = os.path.join(resources_dir, \"hbr_runner_sandbox\")\n",
    "os.makedirs(sandbox_dir, exist_ok=True)\n",
    "\n",
    "runner = Runner(\n",
    "    cross_validate=False,\n",
    "    parallelize=True,\n",
    "    time_limit=\"15:00:00\",\n",
    "    job_type=\"local\",\n",
    "    n_jobs=2,\n",
    "    log_dir=os.path.join(sandbox_dir, \"log_dir\"),\n",
    "    temp_dir=os.path.join(sandbox_dir, \"temp_dir\"),\n",
    ")\n",
    "\n",
    "runner.fit_predict(new_hbr_model, train, test, observe=False)"
   ]
  },
  {
   "cell_type": "code",
   "execution_count": 7,
   "metadata": {},
   "outputs": [
    {
     "name": "stdout",
     "output_type": "stream",
     "text": [
      "Process: 46638 - Loading runner state from /Users/stijndeboer/Projects/PCN/Crash course/resources/hbr_runner_sandbox/temp_dir/runner_state.json\n",
      "Process: 46638 - No python path specified. Using interpreter path of current process: /opt/anaconda3/envs/pcn_crash_course/bin/python\n",
      "Process: 46638 - Runner loaded\n",
      "--------------------------------------------\n",
      "Active jobs: 2\n",
      "Finished jobs: 0\n",
      "Failed jobs: 0\n",
      "--------------------------------------------\n"
     ]
    },
    {
     "data": {
      "text/plain": [
       "<pcntoolkit.util.runner.Runner at 0x1739fba70>"
      ]
     },
     "execution_count": 7,
     "metadata": {},
     "output_type": "execute_result"
    },
    {
     "ename": "",
     "evalue": "",
     "output_type": "error",
     "traceback": [
      "\u001b[1;31mThe Kernel crashed while executing code in the current cell or a previous cell. \n",
      "\u001b[1;31mPlease review the code in the cell(s) to identify a possible cause of the failure. \n",
      "\u001b[1;31mClick <a href='https://aka.ms/vscodeJupyterKernelCrash'>here</a> for more info. \n",
      "\u001b[1;31mView Jupyter <a href='command:jupyter.viewOutput'>log</a> for further details."
     ]
    }
   ],
   "source": [
    "Runner.load(\n",
    "    \"/Users/stijndeboer/Projects/PCN/Crash course/resources/hbr_runner_sandbox/temp_dir\"\n",
    ")"
   ]
  },
  {
   "cell_type": "code",
   "execution_count": null,
   "metadata": {},
   "outputs": [],
   "source": []
  }
 ],
 "metadata": {
  "kernelspec": {
   "display_name": "pcn_crash_course",
   "language": "python",
   "name": "python3"
  },
  "language_info": {
   "codemirror_mode": {
    "name": "ipython",
    "version": 3
   },
   "file_extension": ".py",
   "mimetype": "text/x-python",
   "name": "python",
   "nbconvert_exporter": "python",
   "pygments_lexer": "ipython3",
   "version": "3.12.0"
  }
 },
 "nbformat": 4,
 "nbformat_minor": 2
}
